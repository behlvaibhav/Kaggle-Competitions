{
 "cells": [
  {
   "cell_type": "code",
   "execution_count": 9,
   "metadata": {},
   "outputs": [
    {
     "name": "stdout",
     "output_type": "stream",
     "text": [
      "1    0.786756\n",
      "0    0.213244\n",
      "Name: Result, dtype: float64\n"
     ]
    }
   ],
   "source": [
    "#After exploring the dataset we can form a hypothesis that if the passenger is female there are more chances of survival for them\n",
    "import pandas as pd\n",
    "df1=pd.read_csv(\"hypothesis.csv\")\n",
    "\n",
    "df1['Hypo']=0\n",
    "df1.loc[df1.Sex==\"female\",'Hypo']=1\n",
    "\n",
    "df1['Result']=0\n",
    "df1.loc[df1.Survived==df1['Hypo'],'Result']=1\n",
    "\n",
    "print(df1['Result'].value_counts(normalize=True))\n",
    "\n",
    "#So we can say that by correclty analysing the data we can always look for the "
   ]
  },
  {
   "cell_type": "code",
   "execution_count": null,
   "metadata": {},
   "outputs": [],
   "source": []
  },
  {
   "cell_type": "code",
   "execution_count": null,
   "metadata": {},
   "outputs": [],
   "source": []
  }
 ],
 "metadata": {
  "kernelspec": {
   "display_name": "Python 3",
   "language": "python",
   "name": "python3"
  },
  "language_info": {
   "codemirror_mode": {
    "name": "ipython",
    "version": 3
   },
   "file_extension": ".py",
   "mimetype": "text/x-python",
   "name": "python",
   "nbconvert_exporter": "python",
   "pygments_lexer": "ipython3",
   "version": "3.7.3"
  }
 },
 "nbformat": 4,
 "nbformat_minor": 2
}
